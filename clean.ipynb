{
 "cells": [
  {
   "cell_type": "code",
   "execution_count": 1,
   "metadata": {},
   "outputs": [
    {
     "name": "stdout",
     "output_type": "stream",
     "text": [
      "     Reference London Borough Name  Severity  Vehicle Reference  \\\n",
      "0   1190160344              CAMDEN  3 SLIGHT                  2   \n",
      "1   1180092165              CAMDEN  3 Slight                  1   \n",
      "2   1180130891              CAMDEN  3 Slight                  1   \n",
      "3   1180154716              CAMDEN  3 Slight                  2   \n",
      "4  0115EK49018              CAMDEN  3 Slight                  1   \n",
      "\n",
      "      Vehicle Type  Vehicle Type Banded      Vehicle Manoeuvres  \\\n",
      "0          08 TAXI               4 TAXI         07 TURNING LEFT   \n",
      "1           09 Car                3 Car        09 Turning Right   \n",
      "2           09 Car                3 Car        99 Unknown (S/R)   \n",
      "3  03 M/C 50-125cc  2 Powered 2 wheeler    18 Going Ahead Other   \n",
      "4           09 Car                3 Car  03 Going Ahead Held Up   \n",
      "\n",
      "         Vehicle Skidding            Restricted Lane Junction Location  ...  \\\n",
      "0  0 NO SKIDDING/OVERTURN  00 ON MAIN CW - NOT REST.         1 JCT APP  ...   \n",
      "1               1 Skidded      4 Cycle Lane (On Cwy)      0 Not At Jct  ...   \n",
      "2         9 Unknown (S/R)           99 Unknown (S/R)   9 Unknown (S/R)  ...   \n",
      "3             2 Skid/Over   0 On Main Cw - Not Rest.     2 Jct Cleared  ...   \n",
      "4  0 No Skidding/Overturn   0 On Main Cw - Not Rest.         1 Jct App  ...   \n",
      "\n",
      "  Northing Longitude   Latitude Ward Code Ward Name  Spatial Accuracy  \\\n",
      "0   182904 -0.124131  51.530041       NaN       NaN           Unknown   \n",
      "1   184010 -0.137226  51.540195       NaN       NaN           Unknown   \n",
      "2   183870 -0.142465  51.539019       NaN       NaN           Unknown   \n",
      "3   183800 -0.140761  51.538363       NaN       NaN           Unknown   \n",
      "4   183490 -0.133526  51.535460       NaN       NaN           Unknown   \n",
      "\n",
      "                 Location Socrata ID           Last Uploaded  \\\n",
      "0  (51.530041, -0.124131)      16018  21/12/2020 02:48:54 PM   \n",
      "1  (51.540195, -0.137226)      14360  21/12/2020 02:48:52 PM   \n",
      "2  (51.539019, -0.142465)      15551  21/12/2020 02:48:53 PM   \n",
      "3  (51.538363, -0.140761)      15868  21/12/2020 02:48:54 PM   \n",
      "4   (51.53546, -0.133526)      11204  21/12/2020 02:48:47 PM   \n",
      "\n",
      "                                    Organisation URI  \n",
      "0  http://opendatacommunities.org/id/london-borou...  \n",
      "1  http://opendatacommunities.org/id/london-borou...  \n",
      "2  http://opendatacommunities.org/id/london-borou...  \n",
      "3  http://opendatacommunities.org/id/london-borou...  \n",
      "4  http://opendatacommunities.org/id/london-borou...  \n",
      "\n",
      "[5 rows x 48 columns]\n"
     ]
    }
   ],
   "source": [
    "import pandas as pd\n",
    "\n",
    "data = pd.read_csv(\"/Users/bryancha/Documents/Crash_Camden_UK/public/Road_Collision_Vehicles_In_Camden.csv\")\n",
    "\n",
    "print(data.head())"
   ]
  },
  {
   "cell_type": "code",
   "execution_count": 7,
   "metadata": {},
   "outputs": [
    {
     "data": {
      "text/plain": [
       "0"
      ]
     },
     "execution_count": 7,
     "metadata": {},
     "output_type": "execute_result"
    }
   ],
   "source": [
    "column_name = 'Time'\n",
    "\n",
    "clean = data.dropna(subset=[column_name])\n",
    "\n",
    "clean['Time'].isna().sum()"
   ]
  },
  {
   "cell_type": "code",
   "execution_count": 8,
   "metadata": {},
   "outputs": [],
   "source": [
    "output_file_path = \"/Users/bryancha/Documents/Crash_Camden_UK/public/Cleaned_Road_Collision_Vehicles_In_Camden.csv\"\n",
    "clean.to_csv(output_file_path, index=False)"
   ]
  },
  {
   "cell_type": "code",
   "execution_count": null,
   "metadata": {},
   "outputs": [],
   "source": []
  }
 ],
 "metadata": {
  "kernelspec": {
   "display_name": "dsc80",
   "language": "python",
   "name": "python3"
  },
  "language_info": {
   "codemirror_mode": {
    "name": "ipython",
    "version": 3
   },
   "file_extension": ".py",
   "mimetype": "text/x-python",
   "name": "python",
   "nbconvert_exporter": "python",
   "pygments_lexer": "ipython3",
   "version": "3.8.18"
  }
 },
 "nbformat": 4,
 "nbformat_minor": 2
}
